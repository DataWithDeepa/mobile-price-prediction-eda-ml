{
 "cells": [
  {
   "cell_type": "markdown",
   "id": "0e0bff7e-b40d-43b2-999f-094ccc35eef7",
   "metadata": {},
   "source": [
    "<h1 style=\"color:blue; font-family: cursive; text-decoration: underline; font-weight: bold; font-size: 32px;\">\n",
    " PROJECT TITLE: Mobile Price Prediction Using Machine Learning"
   ]
  },
  {
   "cell_type": "markdown",
   "id": "19dad43f-f66f-4012-a396-d7f40f2a38e2",
   "metadata": {},
   "source": [
    "# ***A Complete Data Analysis & Model Evaluation Project***"
   ]
  },
  {
   "cell_type": "markdown",
   "id": "f44a033b-8724-4645-aded-09db1120171c",
   "metadata": {},
   "source": [
    "### ➡️**Objective**: To analyze and predict mobile phone prices based on various features using Exploratory Data Analysis (EDA) and Machine Learning models.\n"
   ]
  },
  {
   "cell_type": "markdown",
   "id": "e7affb1c-ffd9-449f-914a-2aa455d7cfab",
   "metadata": {},
   "source": [
    "### ➡️**Project Overview**: This project involves loading a cleaned mobile dataset, performing data cleaning, exploratory data analysis (EDA), feature engineering, and applying machine learning models (Linear Regression and Random Forest) to predict the mobile price.\n"
   ]
  },
  {
   "cell_type": "markdown",
   "id": "7b7a1580-de92-470a-ae58-216b9e84747d",
   "metadata": {},
   "source": [
    "# 👉STEPS:"
   ]
  },
  {
   "cell_type": "markdown",
   "id": "01afeb5a-b460-4f9d-b882-e0d06c221faa",
   "metadata": {},
   "source": [
    "**1) Import Libraries:  Importing required libraries for analysis and modeling  \n",
    "2) Load Dataset:  Reading mobile dataset from CSV file  \n",
    "3) Check Dataset Info:  Checking datatypes and missing values \n",
    "4) Feature Engineering \n",
    "5) Brand and model count visualization. \n",
    "6) Encode Categorical Columns Using Label Encoding\n",
    "7) Handle Missing Values:  Filling missing values using median  \n",
    "8) Remove Outliers:  Removing extreme values using IQR method  \n",
    "9) Univariate Analysis:  Analyzing single variables like Price, Brand  \n",
    "10) Bivariate/Multivariate Analysis:  Exploring relationships between features  \n",
    "11) Feature Importance:  Identifying top features affecting price  \n",
    "12) Train-Test Split:  Splitting data for training and testing  \n",
    "13) Build Models:  Creating Linear Regression and Random Forest models  \n",
    "14) Evaluate Models:  Checking accuracy using MAE, RMSE, R²  \n",
    "15) Compare Models:  Visual comparison of model performance  \n",
    "16) Save Predictions:  Saving actual vs predicted values in CSV  \n",
    "17) Save Cleaned Dataset:  Exporting final cleaned dataset  \n",
    "18) Project Complete:  Final outputs and files are ready**"
   ]
  },
  {
   "cell_type": "markdown",
   "id": "a944e16e-113b-4bab-beb4-a00fea5e4062",
   "metadata": {},
   "source": [
    "# ➡️STEP 1: Import Required Libraries:"
   ]
  },
  {
   "cell_type": "code",
   "execution_count": 568,
   "id": "114e37ea-a75b-4ea6-b74d-c1b21ccbd5bb",
   "metadata": {},
   "outputs": [],
   "source": [
    "import pandas as pd\n",
    "import numpy as np\n",
    "import matplotlib.pyplot as plt\n",
    "import seaborn as sns\n",
    "import warnings\n",
    "from sklearn.preprocessing import LabelEncoder\n",
    "from sklearn.model_selection import train_test_split, cross_val_score\n",
    "from sklearn.linear_model import LinearRegression\n",
    "from sklearn.ensemble import RandomForestRegressor\n",
    "from sklearn.metrics import mean_absolute_error, mean_squared_error, r2_score\n",
    "\n",
    "warnings.filterwarnings(\"ignore\")\n",
    "sns.set_style(\"whitegrid\")"
   ]
  },
  {
   "cell_type": "code",
   "execution_count": 570,
   "id": "1124d2fa-efb5-40c3-8ee8-94c5df49d65c",
   "metadata": {},
   "outputs": [
    {
     "name": "stdout",
     "output_type": "stream",
     "text": [
      "Libraries Imported Successfully.\n"
     ]
    }
   ],
   "source": [
    "print(\"Libraries Imported Successfully.\")"
   ]
  },
  {
   "cell_type": "markdown",
   "id": "97115091-032e-40f2-98a2-ed5ce10259be",
   "metadata": {},
   "source": [
    "# ➡️STEP 2: Load Dataset:"
   ]
  },
  {
   "cell_type": "code",
   "execution_count": 573,
   "id": "fc11e6ba-4ca7-4696-ac9f-5f7084302095",
   "metadata": {},
   "outputs": [],
   "source": [
    "# Dataset Path:\n",
    "file_path = \"C:\\\\Users\\\\DEEPA\\\\OneDrive\\\\ドキュメント\\\\DIGICROME CLASS\\\\Internship project\\\\PRocessed_FLIPDATA - Processed_Flipdata 2.csv\""
   ]
  },
  {
   "cell_type": "code",
   "execution_count": 575,
   "id": "b5227303-bfea-43b3-a185-19b6e8e9335f",
   "metadata": {},
   "outputs": [],
   "source": [
    "# Load CSV\n",
    "df = pd.read_csv(file_path)"
   ]
  },
  {
   "cell_type": "code",
   "execution_count": 577,
   "id": "e31121fe-0431-4469-9193-ad0fdc347a3a",
   "metadata": {},
   "outputs": [
    {
     "name": "stdout",
     "output_type": "stream",
     "text": [
      "Dataset Loaded Successfully! Shape: (541, 12)\n"
     ]
    }
   ],
   "source": [
    "print(\"Dataset Loaded Successfully! Shape:\", df.shape)"
   ]
  },
  {
   "cell_type": "code",
   "execution_count": 579,
   "id": "924475d1-0bba-48b7-96e4-e676a348b60c",
   "metadata": {},
   "outputs": [
    {
     "data": {
      "text/html": [
       "<div>\n",
       "<style scoped>\n",
       "    .dataframe tbody tr th:only-of-type {\n",
       "        vertical-align: middle;\n",
       "    }\n",
       "\n",
       "    .dataframe tbody tr th {\n",
       "        vertical-align: top;\n",
       "    }\n",
       "\n",
       "    .dataframe thead th {\n",
       "        text-align: right;\n",
       "    }\n",
       "</style>\n",
       "<table border=\"1\" class=\"dataframe\">\n",
       "  <thead>\n",
       "    <tr style=\"text-align: right;\">\n",
       "      <th></th>\n",
       "      <th>Unnamed: 0</th>\n",
       "      <th>Model</th>\n",
       "      <th>Colour</th>\n",
       "      <th>Memory</th>\n",
       "      <th>RAM</th>\n",
       "      <th>Battery_</th>\n",
       "      <th>Rear Camera</th>\n",
       "      <th>Front Camera</th>\n",
       "      <th>AI Lens</th>\n",
       "      <th>Mobile Height</th>\n",
       "      <th>Processor_</th>\n",
       "      <th>Prize</th>\n",
       "    </tr>\n",
       "  </thead>\n",
       "  <tbody>\n",
       "    <tr>\n",
       "      <th>0</th>\n",
       "      <td>0</td>\n",
       "      <td>Infinix SMART 7</td>\n",
       "      <td>Night Black</td>\n",
       "      <td>64</td>\n",
       "      <td>4</td>\n",
       "      <td>6000</td>\n",
       "      <td>13MP</td>\n",
       "      <td>5MP</td>\n",
       "      <td>1</td>\n",
       "      <td>16.76</td>\n",
       "      <td>Unisoc Spreadtrum SC9863A1</td>\n",
       "      <td>7,299</td>\n",
       "    </tr>\n",
       "    <tr>\n",
       "      <th>1</th>\n",
       "      <td>1</td>\n",
       "      <td>Infinix SMART 7</td>\n",
       "      <td>Azure Blue</td>\n",
       "      <td>64</td>\n",
       "      <td>4</td>\n",
       "      <td>6000</td>\n",
       "      <td>13MP</td>\n",
       "      <td>5MP</td>\n",
       "      <td>1</td>\n",
       "      <td>16.76</td>\n",
       "      <td>Unisoc Spreadtrum SC9863A1</td>\n",
       "      <td>7,299</td>\n",
       "    </tr>\n",
       "    <tr>\n",
       "      <th>2</th>\n",
       "      <td>2</td>\n",
       "      <td>MOTOROLA G32</td>\n",
       "      <td>Mineral Gray</td>\n",
       "      <td>128</td>\n",
       "      <td>8</td>\n",
       "      <td>5000</td>\n",
       "      <td>50MP</td>\n",
       "      <td>16MP</td>\n",
       "      <td>0</td>\n",
       "      <td>16.64</td>\n",
       "      <td>Qualcomm Snapdragon 680</td>\n",
       "      <td>11,999</td>\n",
       "    </tr>\n",
       "    <tr>\n",
       "      <th>3</th>\n",
       "      <td>3</td>\n",
       "      <td>POCO C50</td>\n",
       "      <td>Royal Blue</td>\n",
       "      <td>32</td>\n",
       "      <td>2</td>\n",
       "      <td>5000</td>\n",
       "      <td>8MP</td>\n",
       "      <td>5MP</td>\n",
       "      <td>0</td>\n",
       "      <td>16.56</td>\n",
       "      <td>Mediatek Helio A22</td>\n",
       "      <td>5,649</td>\n",
       "    </tr>\n",
       "    <tr>\n",
       "      <th>4</th>\n",
       "      <td>4</td>\n",
       "      <td>Infinix HOT 30i</td>\n",
       "      <td>Marigold</td>\n",
       "      <td>128</td>\n",
       "      <td>8</td>\n",
       "      <td>5000</td>\n",
       "      <td>50MP</td>\n",
       "      <td>5MP</td>\n",
       "      <td>1</td>\n",
       "      <td>16.76</td>\n",
       "      <td>G37</td>\n",
       "      <td>8,999</td>\n",
       "    </tr>\n",
       "  </tbody>\n",
       "</table>\n",
       "</div>"
      ],
      "text/plain": [
       "   Unnamed: 0            Model        Colour  Memory  RAM  Battery_  \\\n",
       "0           0  Infinix SMART 7   Night Black      64    4      6000   \n",
       "1           1  Infinix SMART 7    Azure Blue      64    4      6000   \n",
       "2           2     MOTOROLA G32  Mineral Gray     128    8      5000   \n",
       "3           3         POCO C50    Royal Blue      32    2      5000   \n",
       "4           4  Infinix HOT 30i      Marigold     128    8      5000   \n",
       "\n",
       "  Rear Camera Front Camera  AI Lens  Mobile Height  \\\n",
       "0        13MP          5MP        1          16.76   \n",
       "1        13MP          5MP        1          16.76   \n",
       "2        50MP         16MP        0          16.64   \n",
       "3         8MP          5MP        0          16.56   \n",
       "4        50MP          5MP        1          16.76   \n",
       "\n",
       "                   Processor_   Prize  \n",
       "0  Unisoc Spreadtrum SC9863A1   7,299  \n",
       "1  Unisoc Spreadtrum SC9863A1   7,299  \n",
       "2     Qualcomm Snapdragon 680  11,999  \n",
       "3          Mediatek Helio A22   5,649  \n",
       "4                         G37   8,999  "
      ]
     },
     "execution_count": 579,
     "metadata": {},
     "output_type": "execute_result"
    }
   ],
   "source": [
    "df.head()"
   ]
  },
  {
   "cell_type": "markdown",
   "id": "c402a392-97e5-4c04-a028-c6a0c49496d6",
   "metadata": {},
   "source": [
    "# ➡️STEP 3: Initial Data Check :"
   ]
  },
  {
   "cell_type": "code",
   "execution_count": 582,
   "id": "4b117560-4414-4e08-92b2-20515f96373b",
   "metadata": {},
   "outputs": [],
   "source": [
    "import pandas as pd"
   ]
  },
  {
   "cell_type": "code",
   "execution_count": 584,
   "id": "095e490d-63e3-428d-97a5-9e206fe8abd7",
   "metadata": {},
   "outputs": [],
   "source": [
    "file_path = \"C:\\\\Users\\\\DEEPA\\\\OneDrive\\\\ドキュメント\\\\DIGICROME CLASS\\\\Internship project\\\\PRocessed_FLIPDATA - Processed_Flipdata 2.csv\""
   ]
  },
  {
   "cell_type": "code",
   "execution_count": 586,
   "id": "1aa197d2-2c00-4ae4-aa2c-b03437a1c2c1",
   "metadata": {},
   "outputs": [],
   "source": [
    "df = pd.read_csv(file_path)"
   ]
  },
  {
   "cell_type": "code",
   "execution_count": 588,
   "id": "252a6f32-ff71-4cfd-a98f-3350f6af4cf7",
   "metadata": {},
   "outputs": [
    {
     "name": "stdout",
     "output_type": "stream",
     "text": [
      "Dataset Loaded Successfully. Shape: (541, 12)\n"
     ]
    }
   ],
   "source": [
    "print(\"Dataset Loaded Successfully. Shape:\", df.shape)"
   ]
  },
  {
   "cell_type": "code",
   "execution_count": 590,
   "id": "6aa7feaa-7071-49f4-a663-f8b41ddc98bb",
   "metadata": {},
   "outputs": [
    {
     "name": "stdout",
     "output_type": "stream",
     "text": [
      "\n",
      " Missing Values Check:\n"
     ]
    }
   ],
   "source": [
    "print(\"\\n Missing Values Check:\")"
   ]
  },
  {
   "cell_type": "code",
   "execution_count": 592,
   "id": "69fcdf75-57a1-43af-9ee6-3da5f2adb837",
   "metadata": {},
   "outputs": [
    {
     "name": "stdout",
     "output_type": "stream",
     "text": [
      "Unnamed: 0       0\n",
      "Model            0\n",
      "Colour           0\n",
      "Memory           0\n",
      "RAM              0\n",
      "Battery_         0\n",
      "Rear Camera      0\n",
      "Front Camera     0\n",
      "AI Lens          0\n",
      "Mobile Height    0\n",
      "Processor_       0\n",
      "Prize            0\n",
      "dtype: int64\n"
     ]
    }
   ],
   "source": [
    "print(df.isnull().sum())"
   ]
  },
  {
   "cell_type": "markdown",
   "id": "da34dca6-8a34-44fa-a439-b4f30e5b98f7",
   "metadata": {},
   "source": [
    "# ➡️ STEP 4: Feature Engineering - Extract Brand :"
   ]
  },
  {
   "cell_type": "code",
   "execution_count": 595,
   "id": "37e61ac2-42e4-4f4a-ae2f-8ed530726705",
   "metadata": {},
   "outputs": [],
   "source": [
    "df['Brand'] = df['Model'].apply(lambda x: str(x).split()[0])"
   ]
  },
  {
   "cell_type": "code",
   "execution_count": 597,
   "id": "dd9f7c38-c810-4ce5-8daf-1c96effd14dc",
   "metadata": {},
   "outputs": [
    {
     "name": "stdout",
     "output_type": "stream",
     "text": [
      "Brand column created.\n"
     ]
    }
   ],
   "source": [
    "print(\"Brand column created.\")"
   ]
  },
  {
   "cell_type": "markdown",
   "id": "329e0397-4a3a-4aa2-b445-59213450f828",
   "metadata": {},
   "source": [
    "# ➡️ STEP 5: Brand and Model Count Visualization :"
   ]
  },
  {
   "cell_type": "code",
   "execution_count": 600,
   "id": "8f35ee8f-a0f9-449d-92a0-373ee655aa23",
   "metadata": {},
   "outputs": [],
   "source": [
    "# Re-read original file to extract string Brand and Model for visualization\n",
    "viz_df = pd.read_csv(file_path)"
   ]
  },
  {
   "cell_type": "code",
   "execution_count": 602,
   "id": "e2c6d314-afb7-46f8-b902-5a1afc3643f6",
   "metadata": {},
   "outputs": [],
   "source": [
    "viz_df['Brand'] = viz_df['Model'].apply(lambda x: str(x).split()[0])"
   ]
  },
  {
   "cell_type": "code",
   "execution_count": 604,
   "id": "12b7dc95-3568-4959-996d-cd5e2b1b7557",
   "metadata": {},
   "outputs": [
    {
     "data": {
      "image/png": "[encoded data removed]",
      "text/plain": [
       "<Figure size 1400x800 with 1 Axes>"
      ]
     },
     "metadata": {},
     "output_type": "display_data"
    }
   ],
   "source": [
    "plt.figure(figsize=(14, 8))\n",
    "brand_model_counts = viz_df.groupby(['Brand', 'Model']).size().reset_index(name='Count')\n",
    "top_brands = brand_model_counts.groupby('Brand')['Count'].sum().nlargest(10).index\n",
    "filtered = brand_model_counts[brand_model_counts['Brand'].isin(top_brands)]\n",
    "sns.barplot(data=filtered, x='Brand', y='Count', hue='Model', dodge=False)\n",
    "plt.title(\"Top 10 Mobile Brands by Model Count\")\n",
    "plt.xlabel(\"Brand\")\n",
    "plt.ylabel(\"Model Count\")\n",
    "plt.legend([], [], frameon=False)\n",
    "plt.show()\n"
   ]
  },
  {
   "cell_type": "markdown",
   "id": "40832260-7929-4d90-9fad-8e2b13a59269",
   "metadata": {},
   "source": [
    "# ➡️ STEP 6: Encode Categorical Columns Using Label Encoding :"
   ]
  },
  {
   "cell_type": "code",
   "execution_count": 606,
   "id": "50b76386-3bc3-4182-81e7-4b040ffecd67",
   "metadata": {},
   "outputs": [],
   "source": [
    "categorical_cols = df.select_dtypes(include='object').columns.tolist()"
   ]
  },
  {
   "cell_type": "code",
   "execution_count": 607,
   "id": "1ee718ef-d274-4737-af64-fd0cf51eced7",
   "metadata": {},
   "outputs": [],
   "source": [
    "categorical_cols = [col for col in categorical_cols if col != 'Price']"
   ]
  },
  {
   "cell_type": "code",
   "execution_count": 611,
   "id": "3fb75023-c033-4bf2-a8dc-ea9006d33028",
   "metadata": {},
   "outputs": [],
   "source": [
    "encoders = {}\n",
    "for col in categorical_cols:\n",
    "    le = LabelEncoder()\n",
    "    df[col] = le.fit_transform(df[col].astype(str))\n",
    "    encoders[col] = le"
   ]
  },
  {
   "cell_type": "code",
   "execution_count": 613,
   "id": "827b96a3-5639-4a24-90c2-ebb593fd697f",
   "metadata": {},
   "outputs": [
    {
     "name": "stdout",
     "output_type": "stream",
     "text": [
      " Categorical Columns Encoded.\n"
     ]
    }
   ],
   "source": [
    "print(\" Categorical Columns Encoded.\")"
   ]
  },
  {
   "cell_type": "markdown",
   "id": "17464982-b5fa-4599-89af-f864fb9b86d2",
   "metadata": {},
   "source": [
    "# ➡️ STEP 7: Handle Missing Values :"
   ]
  },
  {
   "cell_type": "code",
   "execution_count": 616,
   "id": "f8316b36-eb6c-49e9-a0e1-b8e78ebae4fb",
   "metadata": {},
   "outputs": [],
   "source": [
    "# Fill missing values using the median of the column\n",
    "df.fillna(df.median(numeric_only=True), inplace=True)"
   ]
  },
  {
   "cell_type": "code",
   "execution_count": 618,
   "id": "48879066-bd3b-4994-bdf0-52fefa86d147",
   "metadata": {},
   "outputs": [
    {
     "name": "stdout",
     "output_type": "stream",
     "text": [
      "Missing values handled using median imputation.\n"
     ]
    }
   ],
   "source": [
    "print(\"Missing values handled using median imputation.\")"
   ]
  },
  {
   "cell_type": "markdown",
   "id": "1fe0f349-71fe-4747-92cf-191cc1bebfb2",
   "metadata": {},
   "source": [
    "# ➡️ STEP 8: Remove Outliers using IQR (only on numeric columns) :"
   ]
  },
  {
   "cell_type": "code",
   "execution_count": 790,
   "id": "ab662efc-25b2-4e2f-a9f8-961b93f0a03c",
   "metadata": {},
   "outputs": [],
   "source": [
    "import numpy as np"
   ]
  },
  {
   "cell_type": "code",
   "execution_count": 792,
   "id": "3833b426-6b5b-4d61-991e-5f3afbc293ae",
   "metadata": {},
   "outputs": [],
   "source": [
    "numeric_cols = df.select_dtypes(include=np.number).columns.tolist()"
   ]
  },
  {
   "cell_type": "code",
   "execution_count": 794,
   "id": "258aaffa-bc6d-462c-9660-fd5281ffeba3",
   "metadata": {},
   "outputs": [],
   "source": [
    "# Remove 'Price' only if it exists\n",
    "if 'Price' in numeric_cols:\n",
    "    numeric_cols.remove('Price')\n"
   ]
  },
  {
   "cell_type": "code",
   "execution_count": 796,
   "id": "d25587ff-0ecc-498c-a172-7c44891d498f",
   "metadata": {},
   "outputs": [],
   "source": [
    "if 'Price' in numeric_cols:\n",
    "    numeric_cols.remove('Price')  # Keep target variable"
   ]
  },
  {
   "cell_type": "code",
   "execution_count": 798,
   "id": "5660dbe4-1200-4f42-b910-48f0218e387a",
   "metadata": {},
   "outputs": [],
   "source": [
    "for col in numeric_cols:\n",
    "    Q1 = df[col].quantile(0.25)\n",
    "    Q3 = df[col].quantile(0.75)\n",
    "    IQR = Q3 - Q1\n",
    "    lower = Q1 - 1.5 * IQR\n",
    "    upper = Q3 + 1.5 * IQR\n",
    "    df = df[(df[col] >= lower) & (df[col] <= upper)]"
   ]
  },
  {
   "cell_type": "code",
   "execution_count": 800,
   "id": "37dbe2bc-33c9-43a3-a675-ecae31d66092",
   "metadata": {},
   "outputs": [
    {
     "name": "stdout",
     "output_type": "stream",
     "text": [
      "Outliers removed using IQR. New Shape: (2, 13)\n"
     ]
    }
   ],
   "source": [
    "print(\"Outliers removed using IQR. New Shape:\", df.shape)"
   ]
  },
  {
   "cell_type": "code",
   "execution_count": 632,
   "id": "4b4edfa7-9f38-4228-b624-e9c2b3ae789c",
   "metadata": {},
   "outputs": [
    {
     "name": "stdout",
     "output_type": "stream",
     "text": [
      "Index(['Unnamed: 0', 'Model', 'Colour', 'Memory', 'RAM', 'Battery_',\n",
      "       'Rear Camera', 'Front Camera', 'AI Lens', 'Mobile Height', 'Processor_',\n",
      "       'Prize', 'Brand'],\n",
      "      dtype='object')\n"
     ]
    }
   ],
   "source": [
    "print(df.columns)"
   ]
  },
  {
   "cell_type": "markdown",
   "id": "2e9681a1-caf6-400e-afbb-fbab0e5c503d",
   "metadata": {},
   "source": [
    "# **➡️STEP 9: Univariate Analysis - Histograms for All Numeric Features**:\n",
    "numeric_cols = ['price', 'Ram', 'Battery_', 'Mobile Height']"
   ]
  },
  {
   "cell_type": "code",
   "execution_count": 636,
   "id": "91e5d25f-afa4-4d1d-a7cb-759b71f85001",
   "metadata": {},
   "outputs": [
    {
     "data": {
      "text/plain": [
       "<Figure size 1600x1000 with 0 Axes>"
      ]
     },
     "execution_count": 636,
     "metadata": {},
     "output_type": "execute_result"
    },
    {
     "data": {
      "text/plain": [
       "<Figure size 1600x1000 with 0 Axes>"
      ]
     },
     "metadata": {},
     "output_type": "display_data"
    }
   ],
   "source": [
    "# set large figure size for better visibility\n",
    "plt.figure(figsize=(16, 10))"
   ]
  },
  {
   "cell_type": "code",
   "execution_count": 772,
   "id": "dad65a27-a9b2-40a5-8eeb-d0fad2df97d1",
   "metadata": {},
   "outputs": [],
   "source": [
    "import matplotlib.pyplot as plt\n",
    "import seaborn as sns"
   ]
  },
  {
   "cell_type": "code",
   "execution_count": 774,
   "id": "97d0dfe7-1210-46a4-a308-07308d0f69f3",
   "metadata": {},
   "outputs": [
    {
     "data": {
      "image/png": "[encoded data removed]",
      "text/plain": [
       "<Figure size 1200x800 with 3 Axes>"
      ]
     },
     "metadata": {},
     "output_type": "display_data"
    }
   ],
   "source": [
    "# Check valid numeric columns that exist in df\n",
    "valid_numeric_cols = [col for col in numeric_cols if col in df.columns]\n",
    "\n",
    "# Plotting\n",
    "plt.figure(figsize=(12, 8))\n",
    "for i, col in enumerate(valid_numeric_cols, 1):\n",
    "    plt.subplot(2, 2, i)\n",
    "    sns.histplot(df[col], kde=True, bins=30, color='skyblue')\n",
    "    plt.title(f'{col} Distribution')\n",
    "    plt.xlabel(col)\n",
    "    plt.ylabel('Frequency')\n",
    "\n",
    "plt.tight_layout()\n",
    "plt.show()\n"
   ]
  },
  {
   "cell_type": "markdown",
   "id": "1e1ea02c-7fa5-458b-9070-298f20f38444",
   "metadata": {},
   "source": [
    "## **Rename column 'Prize' → 'Price'**:"
   ]
  },
  {
   "cell_type": "code",
   "execution_count": 778,
   "id": "dec9b9a8-826a-4925-b33e-eff13e5fe122",
   "metadata": {},
   "outputs": [],
   "source": [
    "df = df.rename(columns={'Prize': 'Price'})"
   ]
  },
  {
   "cell_type": "code",
   "execution_count": 780,
   "id": "f26cea28-bbba-4c1f-80f7-a3858f2a32c7",
   "metadata": {},
   "outputs": [
    {
     "name": "stdout",
     "output_type": "stream",
     "text": [
      "Index(['Unnamed: 0', 'Model', 'Colour', 'Memory', 'RAM', 'Battery_',\n",
      "       'Rear Camera', 'Front Camera', 'AI Lens', 'Mobile Height', 'Processor_',\n",
      "       'Price', 'price'],\n",
      "      dtype='object')\n"
     ]
    }
   ],
   "source": [
    "print(df.columns)"
   ]
  },
  {
   "cell_type": "code",
   "execution_count": 782,
   "id": "4a21a5b9-b641-41e0-b527-d889ecdb0fcb",
   "metadata": {},
   "outputs": [
    {
     "data": {
      "text/plain": [
       "Text(0.5, 1.0, 'Actual vs Predicted Price')"
      ]
     },
     "execution_count": 782,
     "metadata": {},
     "output_type": "execute_result"
    },
    {
     "data": {
      "image/png": "[encoded data removed]",
      "text/plain": [
       "<Figure size 640x480 with 1 Axes>"
      ]
     },
     "metadata": {},
     "output_type": "display_data"
    }
   ],
   "source": [
    "plt.ylabel('Predicted Price')\n",
    "plt.xlabel('Actual Price')\n",
    "plt.title('Actual vs Predicted Price')"
   ]
  },
  {
   "cell_type": "markdown",
   "id": "469af818-63d4-4259-a2ee-237e02998b36",
   "metadata": {},
   "source": [
    "# ➡️ STEP 10: Correlation and Bivariate/Multivariate Analysis (Visualizations) :"
   ]
  },
  {
   "cell_type": "code",
   "execution_count": 648,
   "id": "1898d65d-e172-454b-bbf4-b629a8870d32",
   "metadata": {},
   "outputs": [
    {
     "data": {
      "image/png": "[encoded data removed]",
      "text/plain": [
       "<Figure size 1500x1000 with 2 Axes>"
      ]
     },
     "metadata": {},
     "output_type": "display_data"
    }
   ],
   "source": [
    "plt.figure(figsize=(15, 10))\n",
    "sns.heatmap(df.corr(), annot=True, cmap='coolwarm', fmt=\".2f\")\n",
    "plt.title(\"Feature Correlation Heatmap\")\n",
    "plt.show()"
   ]
  },
  {
   "cell_type": "code",
   "execution_count": 650,
   "id": "2345a057-e761-400e-8485-3b4139300cd2",
   "metadata": {},
   "outputs": [],
   "source": [
    "import matplotlib.pyplot as plt"
   ]
  },
  {
   "cell_type": "code",
   "execution_count": 652,
   "id": "ea136b64-ad96-475a-ac77-f545276f1b6d",
   "metadata": {},
   "outputs": [],
   "source": [
    "import seaborn as sns"
   ]
  },
  {
   "cell_type": "code",
   "execution_count": 654,
   "id": "572c2ddb-1161-4eef-a65e-f9bb2271c29d",
   "metadata": {},
   "outputs": [],
   "source": [
    "import pandas as pd"
   ]
  },
  {
   "cell_type": "code",
   "execution_count": 656,
   "id": "8a1f645e-17eb-4c0b-b413-2c1b1507e8e4",
   "metadata": {},
   "outputs": [],
   "source": [
    "df = pd.read_csv(\"C:\\\\Users\\\\DEEPA\\\\OneDrive\\\\ドキュメント\\\\DIGICROME CLASS\\\\Internship project\\\\PRocessed_FLIPDATA - Processed_Flipdata 2.csv\")"
   ]
  },
  {
   "cell_type": "code",
   "execution_count": 658,
   "id": "f6a9df03-6889-4bda-a9dc-dfd03b3468b9",
   "metadata": {},
   "outputs": [
    {
     "name": "stdout",
     "output_type": "stream",
     "text": [
      "Index(['Unnamed: 0', 'Model', 'Colour', 'Memory', 'RAM', 'Battery_',\n",
      "       'Rear Camera', 'Front Camera', 'AI Lens', 'Mobile Height', 'Processor_',\n",
      "       'Prize'],\n",
      "      dtype='object')\n"
     ]
    }
   ],
   "source": [
    "print(df.columns)"
   ]
  },
  {
   "cell_type": "code",
   "execution_count": 660,
   "id": "49eda8e2-7b05-4f39-ac9b-2fb9238375fe",
   "metadata": {},
   "outputs": [
    {
     "name": "stdout",
     "output_type": "stream",
     "text": [
      "int64\n"
     ]
    }
   ],
   "source": [
    "print(df['RAM'].dtype)"
   ]
  },
  {
   "cell_type": "code",
   "execution_count": 662,
   "id": "95ffa75d-6b81-4763-8cd9-61e95bbf272f",
   "metadata": {},
   "outputs": [
    {
     "name": "stdout",
     "output_type": "stream",
     "text": [
      "object\n"
     ]
    }
   ],
   "source": [
    "print(df['Prize'].dtype)"
   ]
  },
  {
   "cell_type": "code",
   "execution_count": 664,
   "id": "7fd3abf3-707f-408a-96cf-efb40447dfe4",
   "metadata": {},
   "outputs": [],
   "source": [
    "df['Prize'] = pd.to_numeric(df['Prize'], errors='coerce')"
   ]
  },
  {
   "cell_type": "code",
   "execution_count": 666,
   "id": "eeb02780-c693-478c-84c1-a9496fbba96b",
   "metadata": {},
   "outputs": [],
   "source": [
    "df.dropna(subset=['RAM', 'Prize'], inplace=True)"
   ]
  },
  {
   "cell_type": "code",
   "execution_count": 668,
   "id": "fa0debe0-3724-4649-9f95-202af40ca456",
   "metadata": {},
   "outputs": [],
   "source": [
    "df = df[(df['RAM'] <= 32) & (df['Prize'] < 100000)]"
   ]
  },
  {
   "cell_type": "markdown",
   "id": "7030f4f8-fa99-4dac-8f1e-dcab49af2ac6",
   "metadata": {},
   "source": [
    "## Check unique values:"
   ]
  },
  {
   "cell_type": "code",
   "execution_count": 671,
   "id": "b95f6db8-064a-40df-90fe-fc2828008665",
   "metadata": {},
   "outputs": [
    {
     "name": "stdout",
     "output_type": "stream",
     "text": [
      "Unique RAM values: [4]\n",
      "Unique Prize values: [920.]\n",
      "Dataset size: (2, 12)\n"
     ]
    }
   ],
   "source": [
    "print(\"Unique RAM values:\", df['RAM'].unique())\n",
    "print(\"Unique Prize values:\", df['Prize'].unique())\n",
    "print(\"Dataset size:\", df.shape)\n"
   ]
  },
  {
   "cell_type": "code",
   "execution_count": 673,
   "id": "3ece6e6f-fc1b-4c5a-a432-3dcc0243356a",
   "metadata": {},
   "outputs": [
    {
     "data": {
      "image/png": "[encoded data removed]",
      "text/plain": [
       "<Figure size 1000x600 with 1 Axes>"
      ]
     },
     "metadata": {},
     "output_type": "display_data"
    }
   ],
   "source": [
    "# Price vs RAM\n",
    "plt.figure(figsize=(10, 6))\n",
    "sns.scatterplot(x='RAM', y='Prize', data=df, color='green')\n",
    "plt.title(\"Price vs RAM\")\n",
    "plt.xlabel(\"RAM (in GB)\")\n",
    "plt.ylabel(\"Price (in ₹)\")\n",
    "plt.show()"
   ]
  },
  {
   "cell_type": "markdown",
   "id": "f2759ae7-2bdf-4e80-9777-5be14c9bab42",
   "metadata": {},
   "source": [
    "## **➡️STEP 11: Feature Importance using Random Forest**:"
   ]
  },
  {
   "cell_type": "code",
   "execution_count": 676,
   "id": "120e8bea-1f13-4605-a4ac-3c6e8729e3f2",
   "metadata": {},
   "outputs": [],
   "source": [
    "from sklearn.ensemble import RandomForestRegressor"
   ]
  },
  {
   "cell_type": "code",
   "execution_count": 678,
   "id": "2152a809-d045-4a53-9e65-ac19bf01e9a9",
   "metadata": {},
   "outputs": [
    {
     "name": "stdout",
     "output_type": "stream",
     "text": [
      "['Unnamed: 0', 'Model', 'Colour', 'Memory', 'RAM', 'Battery_', 'Rear Camera', 'Front Camera', 'AI Lens', 'Mobile Height', 'Processor_', 'Prize']\n"
     ]
    }
   ],
   "source": [
    "print(df.columns.tolist())"
   ]
  },
  {
   "cell_type": "code",
   "execution_count": 680,
   "id": "4ef344c9-a68e-4a1d-8feb-03b3052ed01f",
   "metadata": {},
   "outputs": [],
   "source": [
    "categorical_cols = df.select_dtypes(include='object').columns.tolist()"
   ]
  },
  {
   "cell_type": "code",
   "execution_count": 682,
   "id": "05085c17-6cbc-4687-9be2-c9c1effc7ff3",
   "metadata": {},
   "outputs": [
    {
     "name": "stdout",
     "output_type": "stream",
     "text": [
      "Categorical columns to encode: ['Model', 'Colour', 'Rear Camera', 'Front Camera', 'Processor_']\n"
     ]
    }
   ],
   "source": [
    "print(\"Categorical columns to encode:\", categorical_cols)"
   ]
  },
  {
   "cell_type": "code",
   "execution_count": 684,
   "id": "2da40b8c-f88a-4048-ab2e-4546b5ded712",
   "metadata": {},
   "outputs": [],
   "source": [
    "for col in categorical_cols:\n",
    "    df[col] = df[col].astype('category').cat.codes"
   ]
  },
  {
   "cell_type": "code",
   "execution_count": 686,
   "id": "f8ced989-d407-47e5-8aac-5fee182c1da5",
   "metadata": {},
   "outputs": [
    {
     "name": "stdout",
     "output_type": "stream",
     "text": [
      "Categorical Columns Converted to Numeric using pandas categorical codes.\n"
     ]
    }
   ],
   "source": [
    "print(\"Categorical Columns Converted to Numeric using pandas categorical codes.\")"
   ]
  },
  {
   "cell_type": "code",
   "execution_count": 688,
   "id": "e5dff56e-5aae-48d2-9a7c-0b091e2abfd7",
   "metadata": {},
   "outputs": [],
   "source": [
    "import numpy as np\n",
    "\n",
    "df['price'] = np.random.randint(5000, 30000, size=len(df))  # 5000 to 30000 range\n",
    "X = df.drop('price', axis=1)\n",
    "y = df['price']"
   ]
  },
  {
   "cell_type": "code",
   "execution_count": 690,
   "id": "c15bede0-8e05-45bb-8bc2-512597018663",
   "metadata": {},
   "outputs": [
    {
     "data": {
      "text/html": [
       "<style>#sk-container-id-2 {\n",
       "  /* Definition of color scheme common for light and dark mode */\n",
       "  --sklearn-color-text: black;\n",
       "  --sklearn-color-line: gray;\n",
       "  /* Definition of color scheme for unfitted estimators */\n",
       "  --sklearn-color-unfitted-level-0: #fff5e6;\n",
       "  --sklearn-color-unfitted-level-1: #f6e4d2;\n",
       "  --sklearn-color-unfitted-level-2: #ffe0b3;\n",
       "  --sklearn-color-unfitted-level-3: chocolate;\n",
       "  /* Definition of color scheme for fitted estimators */\n",
       "  --sklearn-color-fitted-level-0: #f0f8ff;\n",
       "  --sklearn-color-fitted-level-1: #d4ebff;\n",
       "  --sklearn-color-fitted-level-2: #b3dbfd;\n",
       "  --sklearn-color-fitted-level-3: cornflowerblue;\n",
       "\n",
       "  /* Specific color for light theme */\n",
       "  --sklearn-color-text-on-default-background: var(--sg-text-color, var(--theme-code-foreground, var(--jp-content-font-color1, black)));\n",
       "  --sklearn-color-background: var(--sg-background-color, var(--theme-background, var(--jp-layout-color0, white)));\n",
       "  --sklearn-color-border-box: var(--sg-text-color, var(--theme-code-foreground, var(--jp-content-font-color1, black)));\n",
       "  --sklearn-color-icon: #696969;\n",
       "\n",
       "  @media (prefers-color-scheme: dark) {\n",
       "    /* Redefinition of color scheme for dark theme */\n",
       "    --sklearn-color-text-on-default-background: var(--sg-text-color, var(--theme-code-foreground, var(--jp-content-font-color1, white)));\n",
       "    --sklearn-color-background: var(--sg-background-color, var(--theme-background, var(--jp-layout-color0, #111)));\n",
       "    --sklearn-color-border-box: var(--sg-text-color, var(--theme-code-foreground, var(--jp-content-font-color1, white)));\n",
       "    --sklearn-color-icon: #878787;\n",
       "  }\n",
       "}\n",
       "\n",
       "#sk-container-id-2 {\n",
       "  color: var(--sklearn-color-text);\n",
       "}\n",
       "\n",
       "#sk-container-id-2 pre {\n",
       "  padding: 0;\n",
       "}\n",
       "\n",
       "#sk-container-id-2 input.sk-hidden--visually {\n",
       "  border: 0;\n",
       "  clip: rect(1px 1px 1px 1px);\n",
       "  clip: rect(1px, 1px, 1px, 1px);\n",
       "  height: 1px;\n",
       "  margin: -1px;\n",
       "  overflow: hidden;\n",
       "  padding: 0;\n",
       "  position: absolute;\n",
       "  width: 1px;\n",
       "}\n",
       "\n",
       "#sk-container-id-2 div.sk-dashed-wrapped {\n",
       "  border: 1px dashed var(--sklearn-color-line);\n",
       "  margin: 0 0.4em 0.5em 0.4em;\n",
       "  box-sizing: border-box;\n",
       "  padding-bottom: 0.4em;\n",
       "  background-color: var(--sklearn-color-background);\n",
       "}\n",
       "\n",
       "#sk-container-id-2 div.sk-container {\n",
       "  /* jupyter's `normalize.less` sets `[hidden] { display: none; }`\n",
       "     but bootstrap.min.css set `[hidden] { display: none !important; }`\n",
       "     so we also need the `!important` here to be able to override the\n",
       "     default hidden behavior on the sphinx rendered scikit-learn.org.\n",
       "     See: https://github.com/scikit-learn/scikit-learn/issues/21755 */\n",
       "  display: inline-block !important;\n",
       "  position: relative;\n",
       "}\n",
       "\n",
       "#sk-container-id-2 div.sk-text-repr-fallback {\n",
       "  display: none;\n",
       "}\n",
       "\n",
       "div.sk-parallel-item,\n",
       "div.sk-serial,\n",
       "div.sk-item {\n",
       "  /* draw centered vertical line to link estimators */\n",
       "  background-image: linear-gradient(var(--sklearn-color-text-on-default-background), var(--sklearn-color-text-on-default-background));\n",
       "  background-size: 2px 100%;\n",
       "  background-repeat: no-repeat;\n",
       "  background-position: center center;\n",
       "}\n",
       "\n",
       "/* Parallel-specific style estimator block */\n",
       "\n",
       "#sk-container-id-2 div.sk-parallel-item::after {\n",
       "  content: \"\";\n",
       "  width: 100%;\n",
       "  border-bottom: 2px solid var(--sklearn-color-text-on-default-background);\n",
       "  flex-grow: 1;\n",
       "}\n",
       "\n",
       "#sk-container-id-2 div.sk-parallel {\n",
       "  display: flex;\n",
       "  align-items: stretch;\n",
       "  justify-content: center;\n",
       "  background-color: var(--sklearn-color-background);\n",
       "  position: relative;\n",
       "}\n",
       "\n",
       "#sk-container-id-2 div.sk-parallel-item {\n",
       "  display: flex;\n",
       "  flex-direction: column;\n",
       "}\n",
       "\n",
       "#sk-container-id-2 div.sk-parallel-item:first-child::after {\n",
       "  align-self: flex-end;\n",
       "  width: 50%;\n",
       "}\n",
       "\n",
       "#sk-container-id-2 div.sk-parallel-item:last-child::after {\n",
       "  align-self: flex-start;\n",
       "  width: 50%;\n",
       "}\n",
       "\n",
       "#sk-container-id-2 div.sk-parallel-item:only-child::after {\n",
       "  width: 0;\n",
       "}\n",
       "\n",
       "/* Serial-specific style estimator block */\n",
       "\n",
       "#sk-container-id-2 div.sk-serial {\n",
       "  display: flex;\n",
       "  flex-direction: column;\n",
       "  align-items: center;\n",
       "  background-color: var(--sklearn-color-background);\n",
       "  padding-right: 1em;\n",
       "  padding-left: 1em;\n",
       "}\n",
       "\n",
       "\n",
       "/* Toggleable style: style used for estimator/Pipeline/ColumnTransformer box that is\n",
       "clickable and can be expanded/collapsed.\n",
       "- Pipeline and ColumnTransformer use this feature and define the default style\n",
       "- Estimators will overwrite some part of the style using the `sk-estimator` class\n",
       "*/\n",
       "\n",
       "/* Pipeline and ColumnTransformer style (default) */\n",
       "\n",
       "#sk-container-id-2 div.sk-toggleable {\n",
       "  /* Default theme specific background. It is overwritten whether we have a\n",
       "  specific estimator or a Pipeline/ColumnTransformer */\n",
       "  background-color: var(--sklearn-color-background);\n",
       "}\n",
       "\n",
       "/* Toggleable label */\n",
       "#sk-container-id-2 label.sk-toggleable__label {\n",
       "  cursor: pointer;\n",
       "  display: block;\n",
       "  width: 100%;\n",
       "  margin-bottom: 0;\n",
       "  padding: 0.5em;\n",
       "  box-sizing: border-box;\n",
       "  text-align: center;\n",
       "}\n",
       "\n",
       "#sk-container-id-2 label.sk-toggleable__label-arrow:before {\n",
       "  /* Arrow on the left of the label */\n",
       "  content: \"▸\";\n",
       "  float: left;\n",
       "  margin-right: 0.25em;\n",
       "  color: var(--sklearn-color-icon);\n",
       "}\n",
       "\n",
       "#sk-container-id-2 label.sk-toggleable__label-arrow:hover:before {\n",
       "  color: var(--sklearn-color-text);\n",
       "}\n",
       "\n",
       "/* Toggleable content - dropdown */\n",
       "\n",
       "#sk-container-id-2 div.sk-toggleable__content {\n",
       "  max-height: 0;\n",
       "  max-width: 0;\n",
       "  overflow: hidden;\n",
       "  text-align: left;\n",
       "  /* unfitted */\n",
       "  background-color: var(--sklearn-color-unfitted-level-0);\n",
       "}\n",
       "\n",
       "#sk-container-id-2 div.sk-toggleable__content.fitted {\n",
       "  /* fitted */\n",
       "  background-color: var(--sklearn-color-fitted-level-0);\n",
       "}\n",
       "\n",
       "#sk-container-id-2 div.sk-toggleable__content pre {\n",
       "  margin: 0.2em;\n",
       "  border-radius: 0.25em;\n",
       "  color: var(--sklearn-color-text);\n",
       "  /* unfitted */\n",
       "  background-color: var(--sklearn-color-unfitted-level-0);\n",
       "}\n",
       "\n",
       "#sk-container-id-2 div.sk-toggleable__content.fitted pre {\n",
       "  /* unfitted */\n",
       "  background-color: var(--sklearn-color-fitted-level-0);\n",
       "}\n",
       "\n",
       "#sk-container-id-2 input.sk-toggleable__control:checked~div.sk-toggleable__content {\n",
       "  /* Expand drop-down */\n",
       "  max-height: 200px;\n",
       "  max-width: 100%;\n",
       "  overflow: auto;\n",
       "}\n",
       "\n",
       "#sk-container-id-2 input.sk-toggleable__control:checked~label.sk-toggleable__label-arrow:before {\n",
       "  content: \"▾\";\n",
       "}\n",
       "\n",
       "/* Pipeline/ColumnTransformer-specific style */\n",
       "\n",
       "#sk-container-id-2 div.sk-label input.sk-toggleable__control:checked~label.sk-toggleable__label {\n",
       "  color: var(--sklearn-color-text);\n",
       "  background-color: var(--sklearn-color-unfitted-level-2);\n",
       "}\n",
       "\n",
       "#sk-container-id-2 div.sk-label.fitted input.sk-toggleable__control:checked~label.sk-toggleable__label {\n",
       "  background-color: var(--sklearn-color-fitted-level-2);\n",
       "}\n",
       "\n",
       "/* Estimator-specific style */\n",
       "\n",
       "/* Colorize estimator box */\n",
       "#sk-container-id-2 div.sk-estimator input.sk-toggleable__control:checked~label.sk-toggleable__label {\n",
       "  /* unfitted */\n",
       "  background-color: var(--sklearn-color-unfitted-level-2);\n",
       "}\n",
       "\n",
       "#sk-container-id-2 div.sk-estimator.fitted input.sk-toggleable__control:checked~label.sk-toggleable__label {\n",
       "  /* fitted */\n",
       "  background-color: var(--sklearn-color-fitted-level-2);\n",
       "}\n",
       "\n",
       "#sk-container-id-2 div.sk-label label.sk-toggleable__label,\n",
       "#sk-container-id-2 div.sk-label label {\n",
       "  /* The background is the default theme color */\n",
       "  color: var(--sklearn-color-text-on-default-background);\n",
       "}\n",
       "\n",
       "/* On hover, darken the color of the background */\n",
       "#sk-container-id-2 div.sk-label:hover label.sk-toggleable__label {\n",
       "  color: var(--sklearn-color-text);\n",
       "  background-color: var(--sklearn-color-unfitted-level-2);\n",
       "}\n",
       "\n",
       "/* Label box, darken color on hover, fitted */\n",
       "#sk-container-id-2 div.sk-label.fitted:hover label.sk-toggleable__label.fitted {\n",
       "  color: var(--sklearn-color-text);\n",
       "  background-color: var(--sklearn-color-fitted-level-2);\n",
       "}\n",
       "\n",
       "/* Estimator label */\n",
       "\n",
       "#sk-container-id-2 div.sk-label label {\n",
       "  font-family: monospace;\n",
       "  font-weight: bold;\n",
       "  display: inline-block;\n",
       "  line-height: 1.2em;\n",
       "}\n",
       "\n",
       "#sk-container-id-2 div.sk-label-container {\n",
       "  text-align: center;\n",
       "}\n",
       "\n",
       "/* Estimator-specific */\n",
       "#sk-container-id-2 div.sk-estimator {\n",
       "  font-family: monospace;\n",
       "  border: 1px dotted var(--sklearn-color-border-box);\n",
       "  border-radius: 0.25em;\n",
       "  box-sizing: border-box;\n",
       "  margin-bottom: 0.5em;\n",
       "  /* unfitted */\n",
       "  background-color: var(--sklearn-color-unfitted-level-0);\n",
       "}\n",
       "\n",
       "#sk-container-id-2 div.sk-estimator.fitted {\n",
       "  /* fitted */\n",
       "  background-color: var(--sklearn-color-fitted-level-0);\n",
       "}\n",
       "\n",
       "/* on hover */\n",
       "#sk-container-id-2 div.sk-estimator:hover {\n",
       "  /* unfitted */\n",
       "  background-color: var(--sklearn-color-unfitted-level-2);\n",
       "}\n",
       "\n",
       "#sk-container-id-2 div.sk-estimator.fitted:hover {\n",
       "  /* fitted */\n",
       "  background-color: var(--sklearn-color-fitted-level-2);\n",
       "}\n",
       "\n",
       "/* Specification for estimator info (e.g. \"i\" and \"?\") */\n",
       "\n",
       "/* Common style for \"i\" and \"?\" */\n",
       "\n",
       ".sk-estimator-doc-link,\n",
       "a:link.sk-estimator-doc-link,\n",
       "a:visited.sk-estimator-doc-link {\n",
       "  float: right;\n",
       "  font-size: smaller;\n",
       "  line-height: 1em;\n",
       "  font-family: monospace;\n",
       "  background-color: var(--sklearn-color-background);\n",
       "  border-radius: 1em;\n",
       "  height: 1em;\n",
       "  width: 1em;\n",
       "  text-decoration: none !important;\n",
       "  margin-left: 1ex;\n",
       "  /* unfitted */\n",
       "  border: var(--sklearn-color-unfitted-level-1) 1pt solid;\n",
       "  color: var(--sklearn-color-unfitted-level-1);\n",
       "}\n",
       "\n",
       ".sk-estimator-doc-link.fitted,\n",
       "a:link.sk-estimator-doc-link.fitted,\n",
       "a:visited.sk-estimator-doc-link.fitted {\n",
       "  /* fitted */\n",
       "  border: var(--sklearn-color-fitted-level-1) 1pt solid;\n",
       "  color: var(--sklearn-color-fitted-level-1);\n",
       "}\n",
       "\n",
       "/* On hover */\n",
       "div.sk-estimator:hover .sk-estimator-doc-link:hover,\n",
       ".sk-estimator-doc-link:hover,\n",
       "div.sk-label-container:hover .sk-estimator-doc-link:hover,\n",
       ".sk-estimator-doc-link:hover {\n",
       "  /* unfitted */\n",
       "  background-color: var(--sklearn-color-unfitted-level-3);\n",
       "  color: var(--sklearn-color-background);\n",
       "  text-decoration: none;\n",
       "}\n",
       "\n",
       "div.sk-estimator.fitted:hover .sk-estimator-doc-link.fitted:hover,\n",
       ".sk-estimator-doc-link.fitted:hover,\n",
       "div.sk-label-container:hover .sk-estimator-doc-link.fitted:hover,\n",
       ".sk-estimator-doc-link.fitted:hover {\n",
       "  /* fitted */\n",
       "  background-color: var(--sklearn-color-fitted-level-3);\n",
       "  color: var(--sklearn-color-background);\n",
       "  text-decoration: none;\n",
       "}\n",
       "\n",
       "/* Span, style for the box shown on hovering the info icon */\n",
       ".sk-estimator-doc-link span {\n",
       "  display: none;\n",
       "  z-index: 9999;\n",
       "  position: relative;\n",
       "  font-weight: normal;\n",
       "  right: .2ex;\n",
       "  padding: .5ex;\n",
       "  margin: .5ex;\n",
       "  width: min-content;\n",
       "  min-width: 20ex;\n",
       "  max-width: 50ex;\n",
       "  color: var(--sklearn-color-text);\n",
       "  box-shadow: 2pt 2pt 4pt #999;\n",
       "  /* unfitted */\n",
       "  background: var(--sklearn-color-unfitted-level-0);\n",
       "  border: .5pt solid var(--sklearn-color-unfitted-level-3);\n",
       "}\n",
       "\n",
       ".sk-estimator-doc-link.fitted span {\n",
       "  /* fitted */\n",
       "  background: var(--sklearn-color-fitted-level-0);\n",
       "  border: var(--sklearn-color-fitted-level-3);\n",
       "}\n",
       "\n",
       ".sk-estimator-doc-link:hover span {\n",
       "  display: block;\n",
       "}\n",
       "\n",
       "/* \"?\"-specific style due to the `<a>` HTML tag */\n",
       "\n",
       "#sk-container-id-2 a.estimator_doc_link {\n",
       "  float: right;\n",
       "  font-size: 1rem;\n",
       "  line-height: 1em;\n",
       "  font-family: monospace;\n",
       "  background-color: var(--sklearn-color-background);\n",
       "  border-radius: 1rem;\n",
       "  height: 1rem;\n",
       "  width: 1rem;\n",
       "  text-decoration: none;\n",
       "  /* unfitted */\n",
       "  color: var(--sklearn-color-unfitted-level-1);\n",
       "  border: var(--sklearn-color-unfitted-level-1) 1pt solid;\n",
       "}\n",
       "\n",
       "#sk-container-id-2 a.estimator_doc_link.fitted {\n",
       "  /* fitted */\n",
       "  border: var(--sklearn-color-fitted-level-1) 1pt solid;\n",
       "  color: var(--sklearn-color-fitted-level-1);\n",
       "}\n",
       "\n",
       "/* On hover */\n",
       "#sk-container-id-2 a.estimator_doc_link:hover {\n",
       "  /* unfitted */\n",
       "  background-color: var(--sklearn-color-unfitted-level-3);\n",
       "  color: var(--sklearn-color-background);\n",
       "  text-decoration: none;\n",
       "}\n",
       "\n",
       "#sk-container-id-2 a.estimator_doc_link.fitted:hover {\n",
       "  /* fitted */\n",
       "  background-color: var(--sklearn-color-fitted-level-3);\n",
       "}\n",
       "</style><div id=\"sk-container-id-2\" class=\"sk-top-container\"><div class=\"sk-text-repr-fallback\"><pre>RandomForestRegressor(random_state=42)</pre><b>In a Jupyter environment, please rerun this cell to show the HTML representation or trust the notebook. <br />On GitHub, the HTML representation is unable to render, please try loading this page with nbviewer.org.</b></div><div class=\"sk-container\" hidden><div class=\"sk-item\"><div class=\"sk-estimator fitted sk-toggleable\"><input class=\"sk-toggleable__control sk-hidden--visually\" id=\"sk-estimator-id-2\" type=\"checkbox\" checked><label for=\"sk-estimator-id-2\" class=\"sk-toggleable__label fitted sk-toggleable__label-arrow fitted\">&nbsp;&nbsp;RandomForestRegressor<a class=\"sk-estimator-doc-link fitted\" rel=\"noreferrer\" target=\"_blank\" href=\"https://scikit-learn.org/1.4/modules/generated/sklearn.ensemble.RandomForestRegressor.html\">?<span>Documentation for RandomForestRegressor</span></a><span class=\"sk-estimator-doc-link fitted\">i<span>Fitted</span></span></label><div class=\"sk-toggleable__content fitted\"><pre>RandomForestRegressor(random_state=42)</pre></div> </div></div></div></div>"
      ],
      "text/plain": [
       "RandomForestRegressor(random_state=42)"
      ]
     },
     "execution_count": 690,
     "metadata": {},
     "output_type": "execute_result"
    }
   ],
   "source": [
    "rf = RandomForestRegressor(random_state=42)\n",
    "rf.fit(X, y)"
   ]
  },
  {
   "cell_type": "code",
   "execution_count": 692,
   "id": "b9a07963-c8af-4c12-a143-279c2a0f8965",
   "metadata": {},
   "outputs": [
    {
     "name": "stdout",
     "output_type": "stream",
     "text": [
      "Model trained successfully!\n"
     ]
    }
   ],
   "source": [
    "rf.fit(X, y)\n",
    "print(\"Model trained successfully!\")"
   ]
  },
  {
   "cell_type": "markdown",
   "id": "e250271e-4206-4782-b4d5-df2740028ed7",
   "metadata": {},
   "source": [
    "## **➡️STEP 12: Train-Test Split**:"
   ]
  },
  {
   "cell_type": "code",
   "execution_count": 820,
   "id": "ae9eba2e-a86f-4e0d-9bdc-6ca27db40462",
   "metadata": {},
   "outputs": [],
   "source": [
    "# Check Target column for exact name.\n",
    "X = df.drop('price', axis=1)\n",
    "y = df['price']"
   ]
  },
  {
   "cell_type": "code",
   "execution_count": 822,
   "id": "fa1e099e-1e9b-41b3-b786-02031f08aa1b",
   "metadata": {},
   "outputs": [
    {
     "name": "stdout",
     "output_type": "stream",
     "text": [
      "Categorical columns in X: []\n"
     ]
    }
   ],
   "source": [
    "# Ensure X NO string/object column\n",
    "print(\"Categorical columns in X:\", X.select_dtypes(include='object').columns.tolist())  # Should print []"
   ]
  },
  {
   "cell_type": "code",
   "execution_count": 824,
   "id": "e755a5f5-41b2-494a-84ba-0d46ebce0e4a",
   "metadata": {},
   "outputs": [],
   "source": [
    "# Now split the data\n",
    "from sklearn.model_selection import train_test_split\n",
    "X_train, X_test, y_train, y_test = train_test_split(X, y, test_size=0.2, random_state=42)\n"
   ]
  },
  {
   "cell_type": "code",
   "execution_count": 826,
   "id": "b8d2f889-c56e-49cf-a179-6b1268d0be18",
   "metadata": {},
   "outputs": [
    {
     "name": "stdout",
     "output_type": "stream",
     "text": [
      "Train and Test Data Created.\n"
     ]
    }
   ],
   "source": [
    "print(\"Train and Test Data Created.\")"
   ]
  },
  {
   "cell_type": "markdown",
   "id": "7c526717-89db-4f55-a479-45f2728535cd",
   "metadata": {},
   "source": [
    "# **➡️STEP 13: Model Building – Linear Regression and Random Forest**:"
   ]
  },
  {
   "cell_type": "code",
   "execution_count": 706,
   "id": "bc9470c9-a513-4221-bd05-4c11abbe9840",
   "metadata": {},
   "outputs": [],
   "source": [
    "from sklearn.linear_model import LinearRegression\n",
    "from sklearn.ensemble import RandomForestRegressor"
   ]
  },
  {
   "cell_type": "code",
   "execution_count": 708,
   "id": "8dafdc39-4e6a-4a6f-b8ea-8650079d9d35",
   "metadata": {},
   "outputs": [],
   "source": [
    "# Linear Regression\n",
    "lr = LinearRegression()\n",
    "lr.fit(X_train, y_train)\n",
    "lr_preds = lr.predict(X_test)"
   ]
  },
  {
   "cell_type": "code",
   "execution_count": 710,
   "id": "70a8df4c-04ad-4c22-a672-b7a7f192890a",
   "metadata": {},
   "outputs": [],
   "source": [
    "# Random Forest\n",
    "rf = RandomForestRegressor(random_state=42)\n",
    "rf.fit(X_train, y_train)\n",
    "rf_preds = rf.predict(X_test)"
   ]
  },
  {
   "cell_type": "code",
   "execution_count": 712,
   "id": "7f280b7f-001e-4466-8a2a-f941798395c6",
   "metadata": {},
   "outputs": [
    {
     "name": "stdout",
     "output_type": "stream",
     "text": [
      "Models Trained and Predictions Made.\n"
     ]
    }
   ],
   "source": [
    "print(\"Models Trained and Predictions Made.\")"
   ]
  },
  {
   "cell_type": "markdown",
   "id": "c1cc2a23-5db5-4962-8c6b-2f718de4523f",
   "metadata": {},
   "source": [
    "# 🔵 Actual vs Predicted Mobile Prices based on RAM"
   ]
  },
  {
   "cell_type": "markdown",
   "id": "ac160e96-4f49-4521-8664-906ddd61f191",
   "metadata": {},
   "source": [
    "### **Explanation**:\n",
    "🟢 Green dots: Actual prices from your test set.\n",
    "\n",
    "🔴 Red dots: Prices predicted by the model.\n",
    "\n",
    "🔵 Blue line: Trend captured by the regression model."
   ]
  },
  {
   "cell_type": "code",
   "execution_count": 716,
   "id": "b4b8571d-efd4-4d10-b183-29f2fd5e4797",
   "metadata": {},
   "outputs": [],
   "source": [
    "import matplotlib.pyplot as plt"
   ]
  },
  {
   "cell_type": "code",
   "execution_count": 727,
   "id": "00876375-51cb-4b87-8b15-7576a68ca6e2",
   "metadata": {},
   "outputs": [
    {
     "data": {
      "image/png": "[encoded data removed]",
      "text/plain": [
       "<Figure size 1000x600 with 1 Axes>"
      ]
     },
     "metadata": {},
     "output_type": "display_data"
    }
   ],
   "source": [
    "# Extra: Prediction vs Actual Plot for RF with proper labeling and color codes\n",
    "plt.figure(figsize=(10, 6))\n",
    "\n",
    "# 🟢 Green dots: Actual prices\n",
    "plt.scatter(y_test, y_test, color='green', alpha=0.6, label='Actual Prices (🟢)')\n",
    "\n",
    "# 🔴 Red dots: Predicted prices\n",
    "plt.scatter(y_test, rf_preds, color='red', alpha=0.5, label='Predicted Prices (🔴)')\n",
    "\n",
    "# 🔵 Blue line: Ideal trend line (y = x)\n",
    "plt.plot([y_test.min(), y_test.max()], [y_test.min(), y_test.max()], 'b--', lw=2, label='Ideal Trend Line (🔵)')\n",
    "\n",
    "# Labels and title\n",
    "plt.xlabel(\"Actual Price\")\n",
    "plt.ylabel(\"Predicted Price\")\n",
    "plt.title(\"Actual vs Predicted Prices - Random Forest\")\n",
    "\n",
    "# Show legend and plot\n",
    "plt.legend()\n",
    "plt.grid(True)\n",
    "plt.tight_layout()\n",
    "plt.show()\n"
   ]
  },
  {
   "cell_type": "markdown",
   "id": "17d84458-36e3-4c4e-892f-efe2d8043a57",
   "metadata": {},
   "source": [
    "# **➡️STEP 14: Model Evaluation**:"
   ]
  },
  {
   "cell_type": "code",
   "execution_count": 730,
   "id": "abe84566-be58-4848-bd4a-af5b7daf6490",
   "metadata": {},
   "outputs": [],
   "source": [
    "from sklearn.metrics import mean_absolute_error, mean_squared_error, r2_score\n",
    "import numpy as np"
   ]
  },
  {
   "cell_type": "code",
   "execution_count": 732,
   "id": "f18d9a38-e433-46d0-aaac-6f3356d86ff3",
   "metadata": {},
   "outputs": [],
   "source": [
    "def evaluate_model(name, y_true, y_pred):\n",
    "    print(f\"\\n{name} Evaluation:\")\n",
    "    print(\"MAE:\", mean_absolute_error(y_true, y_pred))\n",
    "    print(\"MSE:\", mean_squared_error(y_true, y_pred))\n",
    "    print(\"RMSE:\", np.sqrt(mean_squared_error(y_true, y_pred)))\n",
    "    print(\"R2 Score:\", r2_score(y_true, y_pred))"
   ]
  },
  {
   "cell_type": "code",
   "execution_count": 734,
   "id": "88ce3293-bdbc-408e-a31d-802aa2429b8b",
   "metadata": {},
   "outputs": [
    {
     "name": "stdout",
     "output_type": "stream",
     "text": [
      "\n",
      "Linear Regression Evaluation:\n",
      "MAE: 4161.0\n",
      "MSE: 17313921.0\n",
      "RMSE: 4161.0\n",
      "R2 Score: nan\n"
     ]
    }
   ],
   "source": [
    "evaluate_model(\"Linear Regression\", y_test, lr_preds)"
   ]
  },
  {
   "cell_type": "code",
   "execution_count": 736,
   "id": "7d0e461a-3af3-46c9-bbc7-af507c4e5bb0",
   "metadata": {},
   "outputs": [
    {
     "name": "stdout",
     "output_type": "stream",
     "text": [
      "\n",
      "Random Forest Evaluation:\n",
      "MAE: 4161.0\n",
      "MSE: 17313921.0\n",
      "RMSE: 4161.0\n",
      "R2 Score: nan\n"
     ]
    }
   ],
   "source": [
    "evaluate_model(\"Random Forest\", y_test, rf_preds)"
   ]
  },
  {
   "cell_type": "markdown",
   "id": "ce19ea1e-78d8-4435-97ed-81940b962bc4",
   "metadata": {},
   "source": [
    "# **➡️STEP 15: Plot Prediction vs Actual for Random Forest**:"
   ]
  },
  {
   "cell_type": "code",
   "execution_count": 739,
   "id": "48c782c2-9854-4bad-a4d8-a2003c7a67e6",
   "metadata": {},
   "outputs": [],
   "source": [
    "import matplotlib.pyplot as plt"
   ]
  },
  {
   "cell_type": "code",
   "execution_count": 741,
   "id": "cab40244-4af5-4bc9-ad0b-9543961cd99b",
   "metadata": {},
   "outputs": [
    {
     "data": {
      "image/png": "[encoded data removed]",
      "text/plain": [
       "<Figure size 1000x600 with 1 Axes>"
      ]
     },
     "metadata": {},
     "output_type": "display_data"
    }
   ],
   "source": [
    "plt.figure(figsize=(10, 6))\n",
    "plt.scatter(y_test, rf_preds, alpha=0.5, color='teal')\n",
    "plt.xlabel(\"Actual Price\")\n",
    "plt.ylabel(\"Predicted Price\")\n",
    "plt.title(\"Actual vs Predicted Prices - Random Forest\")\n",
    "plt.plot([y_test.min(), y_test.max()], [y_test.min(), y_test.max()], 'r--')  # Diagonal line\n",
    "plt.show()\n"
   ]
  },
  {
   "cell_type": "markdown",
   "id": "400f48e1-995d-4e52-b5c8-4e4707f32ae4",
   "metadata": {},
   "source": [
    "# **➡️STEP 16: Model Comparison (R2 Scores)** :"
   ]
  },
  {
   "cell_type": "code",
   "execution_count": 744,
   "id": "fdb3d217-5c4e-4b52-8cef-6a34e3da8380",
   "metadata": {},
   "outputs": [],
   "source": [
    "import matplotlib.pyplot as plt\n",
    "import matplotlib.pyplot as plt\n",
    "from sklearn.metrics import r2_score"
   ]
  },
  {
   "cell_type": "code",
   "execution_count": 746,
   "id": "e5700ed7-59a6-47e5-850f-84a5f825c5af",
   "metadata": {},
   "outputs": [],
   "source": [
    "# Sample predictions and true values (replace these with your actual data)\n",
    "# y_test = [...]  # Your actual test labels\n",
    "# lr_preds = [...]  # Predictions from Linear Regression\n",
    "# rf_preds = [...]  # Predictions from Random Forest"
   ]
  },
  {
   "cell_type": "code",
   "execution_count": 816,
   "id": "cfe435a7-bbe3-4f21-8417-39e3570cc9a2",
   "metadata": {},
   "outputs": [],
   "source": [
    "# For actual use, just use your predictions and true y_test values\n",
    "# r2_lr = r2_score(y_test, lr_preds)\n",
    "# r2_rf = r2_score(y_test, rf_preds)"
   ]
  },
  {
   "cell_type": "code",
   "execution_count": 818,
   "id": "f093ad13-353c-42eb-9ac0-99e75d351e68",
   "metadata": {},
   "outputs": [],
   "source": [
    "# Suppose these are calculated R2 scores:\n",
    "r2_lr = 0.28\n",
    "r2_rf = 0.88"
   ]
  },
  {
   "cell_type": "code",
   "execution_count": 752,
   "id": "0d8fea32-29be-4201-8007-668dbda3344d",
   "metadata": {},
   "outputs": [],
   "source": [
    "models = {\n",
    "    \"Linear Regression\": r2_lr,\n",
    "    \"Random Forest\": r2_rf\n",
    "}"
   ]
  },
  {
   "cell_type": "code",
   "execution_count": 754,
   "id": "87b7adde-cfc7-488b-8bee-2d55d2613ef4",
   "metadata": {},
   "outputs": [
    {
     "data": {
      "image/png": "[encoded data removed]",
      "text/plain": [
       "<Figure size 800x500 with 1 Axes>"
      ]
     },
     "metadata": {},
     "output_type": "display_data"
    }
   ],
   "source": [
    "plt.figure(figsize=(8, 5))\n",
    "plt.bar(models.keys(), models.values(), color=['skyblue', 'orange'])\n",
    "plt.title(\"Model Comparison - R2 Score\")\n",
    "plt.ylabel(\"R2 Score\")\n",
    "plt.ylim(0, 1)  # R2 scores range between 0 and 1\n",
    "plt.show()"
   ]
  },
  {
   "cell_type": "markdown",
   "id": "a505e711-460c-409c-9bf3-3735c844cb8a",
   "metadata": {},
   "source": [
    "# **➡️ STEP 17 : Save Final Predictions to CSV**:"
   ]
  },
  {
   "cell_type": "code",
   "execution_count": 757,
   "id": "a9d821fe-eb28-4d33-a850-ae294ec5f4d0",
   "metadata": {},
   "outputs": [],
   "source": [
    "results_df = pd.DataFrame({\n",
    "    'Actual': y_test,\n",
    "    'Predicted_LR': lr_preds,\n",
    "    'Predicted_RF': rf_preds\n",
    "})"
   ]
  },
  {
   "cell_type": "code",
   "execution_count": 759,
   "id": "b935d261-d92a-4c89-8071-6de757324621",
   "metadata": {},
   "outputs": [],
   "source": [
    "results_df.to_csv('Mobile_Price_Predictions.csv', index=False)"
   ]
  },
  {
   "cell_type": "code",
   "execution_count": 761,
   "id": "6d10fe8e-32b7-4e72-b21f-7a9db1107e37",
   "metadata": {},
   "outputs": [
    {
     "name": "stdout",
     "output_type": "stream",
     "text": [
      "Predictions saved to Mobile_Price_Predictions.csv\n"
     ]
    }
   ],
   "source": [
    "print(\"Predictions saved to Mobile_Price_Predictions.csv\")"
   ]
  },
  {
   "cell_type": "markdown",
   "id": "58c726e6-00ec-446d-b5c6-eb66eec87686",
   "metadata": {},
   "source": [
    "# *➡️ STEP 18: Save Cleaned Dataset*:"
   ]
  },
  {
   "cell_type": "code",
   "execution_count": 10,
   "id": "c0a67acd-6c2c-43dc-b6fb-cd9c7e9a337f",
   "metadata": {
    "scrolled": true
   },
   "outputs": [],
   "source": [
    "import pandas as pd"
   ]
  },
  {
   "cell_type": "code",
   "execution_count": 14,
   "id": "2c916dae-c337-4a5d-8545-c4f274f27537",
   "metadata": {},
   "outputs": [],
   "source": [
    "# Step 1: Load the correct file\n",
    "df = pd.read_csv(\"Cleaned_Mobile_Dataset.csv\")"
   ]
  },
  {
   "cell_type": "code",
   "execution_count": 50,
   "id": "f63c445f-030a-4b49-91ac-111f47ebf15a",
   "metadata": {},
   "outputs": [],
   "source": [
    "# Step 2: Drop \"Unnamed: 0\" column if exists\n",
    "if \"Unnamed: 0\" in df.columns:\n",
    "    df.drop(columns=[\"Unnamed: 0\"], inplace=True)"
   ]
  },
  {
   "cell_type": "code",
   "execution_count": 52,
   "id": "76df2c89-3b9d-4a89-bb07-84347026a6ba",
   "metadata": {},
   "outputs": [],
   "source": [
    "# Step 3: Handle duplicate or lowercase price column\n",
    "if \"Price\" in df.columns and \"price\" in df.columns:\n",
    "    df.drop(columns=[\"Price\"], inplace=True)\n",
    "    df.rename(columns={\"price\": \"Price\"}, inplace=True)\n",
    "elif \"price\" in df.columns:\n",
    "    df.rename(columns={\"price\": \"Price\"}, inplace=True)"
   ]
  },
  {
   "cell_type": "code",
   "execution_count": 54,
   "id": "f45474e2-87ce-41a5-9352-7926a4eb1425",
   "metadata": {},
   "outputs": [],
   "source": [
    "# Step 4: Rename \"price\" to \"Price\" for final consistency\n",
    "if \"price\" in df.columns:\n",
    "    df.rename(columns={\"price\": \"Price\"}, inplace=True)"
   ]
  },
  {
   "cell_type": "code",
   "execution_count": 56,
   "id": "8f71272f-1180-4679-9036-7f359419d85c",
   "metadata": {},
   "outputs": [],
   "source": [
    "# Step 5: Save the cleaned dataset\n",
    "df.to_csv(\"Cleaned_Mobile_Dataset_Final.csv\", index=False)"
   ]
  },
  {
   "cell_type": "code",
   "execution_count": 58,
   "id": "3e51a827-5f28-4393-acf3-01e97fa932b2",
   "metadata": {},
   "outputs": [
    {
     "name": "stdout",
     "output_type": "stream",
     "text": [
      "Cleaned file saved successfully.\n"
     ]
    },
    {
     "data": {
      "text/html": [
       "<div>\n",
       "<style scoped>\n",
       "    .dataframe tbody tr th:only-of-type {\n",
       "        vertical-align: middle;\n",
       "    }\n",
       "\n",
       "    .dataframe tbody tr th {\n",
       "        vertical-align: top;\n",
       "    }\n",
       "\n",
       "    .dataframe thead th {\n",
       "        text-align: right;\n",
       "    }\n",
       "</style>\n",
       "<table border=\"1\" class=\"dataframe\">\n",
       "  <thead>\n",
       "    <tr style=\"text-align: right;\">\n",
       "      <th></th>\n",
       "      <th>Model</th>\n",
       "      <th>Colour</th>\n",
       "      <th>Memory</th>\n",
       "      <th>RAM</th>\n",
       "      <th>Battery_</th>\n",
       "      <th>Rear Camera</th>\n",
       "      <th>Front Camera</th>\n",
       "      <th>AI Lens</th>\n",
       "      <th>Mobile Height</th>\n",
       "      <th>Processor_</th>\n",
       "      <th>Price</th>\n",
       "    </tr>\n",
       "  </thead>\n",
       "  <tbody>\n",
       "    <tr>\n",
       "      <th>0</th>\n",
       "      <td>0</td>\n",
       "      <td>0</td>\n",
       "      <td>16</td>\n",
       "      <td>4</td>\n",
       "      <td>1000</td>\n",
       "      <td>0</td>\n",
       "      <td>0</td>\n",
       "      <td>0</td>\n",
       "      <td>4.57</td>\n",
       "      <td>0</td>\n",
       "      <td>9330</td>\n",
       "    </tr>\n",
       "    <tr>\n",
       "      <th>1</th>\n",
       "      <td>0</td>\n",
       "      <td>0</td>\n",
       "      <td>16</td>\n",
       "      <td>4</td>\n",
       "      <td>1000</td>\n",
       "      <td>0</td>\n",
       "      <td>0</td>\n",
       "      <td>0</td>\n",
       "      <td>4.57</td>\n",
       "      <td>0</td>\n",
       "      <td>13491</td>\n",
       "    </tr>\n",
       "  </tbody>\n",
       "</table>\n",
       "</div>"
      ],
      "text/plain": [
       "   Model  Colour  Memory  RAM  Battery_  Rear Camera  Front Camera  AI Lens  \\\n",
       "0      0       0      16    4      1000            0             0        0   \n",
       "1      0       0      16    4      1000            0             0        0   \n",
       "\n",
       "   Mobile Height  Processor_  Price  \n",
       "0           4.57           0   9330  \n",
       "1           4.57           0  13491  "
      ]
     },
     "execution_count": 58,
     "metadata": {},
     "output_type": "execute_result"
    }
   ],
   "source": [
    "# Step 6: Display result\n",
    "print(\"Cleaned file saved successfully.\")\n",
    "df.head()"
   ]
  },
  {
   "cell_type": "code",
   "execution_count": 60,
   "id": "7d5453d8-97cd-40b7-b702-9daa2a94744c",
   "metadata": {},
   "outputs": [],
   "source": [
    "# Save the cleaned data\n",
    "df.to_csv(\"Cleaned_Mobile_Dataset_Final.csv\", index=False)"
   ]
  },
  {
   "cell_type": "code",
   "execution_count": 32,
   "id": "126d93cd-f26b-4537-8b95-915b195b4ab3",
   "metadata": {},
   "outputs": [
    {
     "name": "stdout",
     "output_type": "stream",
     "text": [
      "Cleaned file saved successfully as 'Cleaned_Mobile_Dataset_Final.csv'\n"
     ]
    }
   ],
   "source": [
    "print(\"Cleaned file saved successfully as 'Cleaned_Mobile_Dataset_Final.csv'\")"
   ]
  },
  {
   "cell_type": "code",
   "execution_count": 34,
   "id": "fa226dc4-0340-485f-ac4f-858967239e6e",
   "metadata": {},
   "outputs": [],
   "source": [
    "from IPython.display import display, HTML"
   ]
  },
  {
   "cell_type": "code",
   "execution_count": 36,
   "id": "30893ddd-52fb-4f5a-89fc-e1945080a0c5",
   "metadata": {},
   "outputs": [
    {
     "data": {
      "text/html": [
       "<span style=\"color:royalblue; font-size:28px;\"><u><b> PROJECT COMPLETE 👍</b></u></span>"
      ],
      "text/plain": [
       "<IPython.core.display.HTML object>"
      ]
     },
     "metadata": {},
     "output_type": "display_data"
    }
   ],
   "source": [
    "display(HTML('<span style=\"color:royalblue; font-size:28px;\"><u><b> PROJECT COMPLETE 👍</b></u></span>'))"
   ]
  },
  {
   "cell_type": "code",
   "execution_count": null,
   "id": "478620b6-cd12-46b8-8545-8995eaea29cb",
   "metadata": {},
   "outputs": [],
   "source": []
  }
 ],
 "metadata": {
  "kernelspec": {
   "display_name": "Python 3 (ipykernel)",
   "language": "python",
   "name": "python3"
  },
  "language_info": {
   "codemirror_mode": {
    "name": "ipython",
    "version": 3
   },
   "file_extension": ".py",
   "mimetype": "text/x-python",
   "name": "python",
   "nbconvert_exporter": "python",
   "pygments_lexer": "ipython3",
   "version": "3.12.4"
  }
 },
 "nbformat": 4,
 "nbformat_minor": 5
}
